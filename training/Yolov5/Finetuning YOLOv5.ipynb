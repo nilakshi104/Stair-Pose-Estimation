{
  "nbformat": 4,
  "nbformat_minor": 0,
  "metadata": {
    "colab": {
      "name": "YOLO Training.ipynb",
      "provenance": [],
      "collapsed_sections": []
    },
    "kernelspec": {
      "name": "python3",
      "display_name": "Python 3"
    },
    "language_info": {
      "name": "python"
    },
    "accelerator": "GPU"
  },
  "cells": [
    {
      "cell_type": "code",
      "metadata": {
        "colab": {
          "base_uri": "https://localhost:8080/"
        },
        "id": "5NtnTpSc-hKY",
        "outputId": "63d5e29d-acbf-4d82-f762-c875b8d62c58"
      },
      "source": [
        "!nvidia-smi"
      ],
      "execution_count": null,
      "outputs": [
        {
          "output_type": "stream",
          "name": "stdout",
          "text": [
            "/bin/bash: nvidia-smi: command not found\n"
          ]
        }
      ]
    },
    {
      "cell_type": "code",
      "metadata": {
        "colab": {
          "base_uri": "https://localhost:8080/",
          "height": 1000
        },
        "id": "_ShxI5E7-l81",
        "outputId": "7cedf579-79cd-4db7-b047-a90925ee91e6"
      },
      "source": [
        "!pip install torch==1.5.1+cu101 torchvision==0.6.1+cu101 -f https://download.pytorch.org/whl/torch_stable.html\n",
        "!pip install numpy==1.17\n",
        "!pip install PyYAML==5.3.1\n",
        "!pip install git+https://github.com/cocodataset/cocoapi.git"
      ],
      "execution_count": null,
      "outputs": [
        {
          "output_type": "stream",
          "name": "stdout",
          "text": [
            "Looking in links: https://download.pytorch.org/whl/torch_stable.html\n",
            "Collecting torch==1.5.1+cu101\n",
            "  Downloading https://download.pytorch.org/whl/cu101/torch-1.5.1%2Bcu101-cp37-cp37m-linux_x86_64.whl (704.4 MB)\n",
            "\u001b[K     |████████████████████████████████| 704.4 MB 1.1 kB/s \n",
            "\u001b[?25hCollecting torchvision==0.6.1+cu101\n",
            "  Downloading https://download.pytorch.org/whl/cu101/torchvision-0.6.1%2Bcu101-cp37-cp37m-linux_x86_64.whl (6.6 MB)\n",
            "\u001b[K     |████████████████████████████████| 6.6 MB 860 kB/s \n",
            "\u001b[?25hRequirement already satisfied: numpy in /usr/local/lib/python3.7/dist-packages (from torch==1.5.1+cu101) (1.19.5)\n",
            "Requirement already satisfied: future in /usr/local/lib/python3.7/dist-packages (from torch==1.5.1+cu101) (0.16.0)\n",
            "Requirement already satisfied: pillow>=4.1.1 in /usr/local/lib/python3.7/dist-packages (from torchvision==0.6.1+cu101) (7.1.2)\n",
            "Installing collected packages: torch, torchvision\n",
            "  Attempting uninstall: torch\n",
            "    Found existing installation: torch 1.10.0+cu111\n",
            "    Uninstalling torch-1.10.0+cu111:\n",
            "      Successfully uninstalled torch-1.10.0+cu111\n",
            "  Attempting uninstall: torchvision\n",
            "    Found existing installation: torchvision 0.11.1+cu111\n",
            "    Uninstalling torchvision-0.11.1+cu111:\n",
            "      Successfully uninstalled torchvision-0.11.1+cu111\n",
            "\u001b[31mERROR: pip's dependency resolver does not currently take into account all the packages that are installed. This behaviour is the source of the following dependency conflicts.\n",
            "torchtext 0.11.0 requires torch==1.10.0, but you have torch 1.5.1+cu101 which is incompatible.\n",
            "torchaudio 0.10.0+cu111 requires torch==1.10.0, but you have torch 1.5.1+cu101 which is incompatible.\u001b[0m\n",
            "Successfully installed torch-1.5.1+cu101 torchvision-0.6.1+cu101\n",
            "Collecting numpy==1.17\n",
            "  Downloading numpy-1.17.0-cp37-cp37m-manylinux1_x86_64.whl (20.3 MB)\n",
            "\u001b[K     |████████████████████████████████| 20.3 MB 1.6 MB/s \n",
            "\u001b[?25hInstalling collected packages: numpy\n",
            "  Attempting uninstall: numpy\n",
            "    Found existing installation: numpy 1.19.5\n",
            "    Uninstalling numpy-1.19.5:\n",
            "      Successfully uninstalled numpy-1.19.5\n",
            "\u001b[31mERROR: pip's dependency resolver does not currently take into account all the packages that are installed. This behaviour is the source of the following dependency conflicts.\n",
            "torchtext 0.11.0 requires torch==1.10.0, but you have torch 1.5.1+cu101 which is incompatible.\n",
            "tables 3.7.0 requires numpy>=1.19.0, but you have numpy 1.17.0 which is incompatible.\n",
            "pywavelets 1.2.0 requires numpy>=1.17.3, but you have numpy 1.17.0 which is incompatible.\n",
            "pandas 1.3.5 requires numpy>=1.17.3; platform_machine != \"aarch64\" and platform_machine != \"arm64\" and python_version < \"3.10\", but you have numpy 1.17.0 which is incompatible.\n",
            "kapre 0.3.7 requires numpy>=1.18.5, but you have numpy 1.17.0 which is incompatible.\n",
            "jaxlib 0.1.71+cuda111 requires numpy>=1.18, but you have numpy 1.17.0 which is incompatible.\n",
            "jax 0.2.25 requires numpy>=1.18, but you have numpy 1.17.0 which is incompatible.\n",
            "datascience 0.10.6 requires folium==0.2.1, but you have folium 0.8.3 which is incompatible.\n",
            "albumentations 0.1.12 requires imgaug<0.2.7,>=0.2.5, but you have imgaug 0.2.9 which is incompatible.\u001b[0m\n",
            "Successfully installed numpy-1.17.0\n"
          ]
        },
        {
          "output_type": "display_data",
          "data": {
            "application/vnd.colab-display-data+json": {
              "pip_warning": {
                "packages": [
                  "numpy"
                ]
              }
            }
          },
          "metadata": {}
        },
        {
          "output_type": "stream",
          "name": "stdout",
          "text": [
            "Collecting PyYAML==5.3.1\n",
            "  Downloading PyYAML-5.3.1.tar.gz (269 kB)\n",
            "\u001b[?25l\r\u001b[K     |█▏                              | 10 kB 19.4 MB/s eta 0:00:01\r\u001b[K     |██▍                             | 20 kB 24.6 MB/s eta 0:00:01\r\u001b[K     |███▋                            | 30 kB 21.2 MB/s eta 0:00:01\r\u001b[K     |████▉                           | 40 kB 13.1 MB/s eta 0:00:01\r\u001b[K     |██████                          | 51 kB 9.1 MB/s eta 0:00:01\r\u001b[K     |███████▎                        | 61 kB 8.6 MB/s eta 0:00:01\r\u001b[K     |████████▌                       | 71 kB 8.3 MB/s eta 0:00:01\r\u001b[K     |█████████▊                      | 81 kB 9.1 MB/s eta 0:00:01\r\u001b[K     |███████████                     | 92 kB 8.9 MB/s eta 0:00:01\r\u001b[K     |████████████▏                   | 102 kB 8.0 MB/s eta 0:00:01\r\u001b[K     |█████████████▍                  | 112 kB 8.0 MB/s eta 0:00:01\r\u001b[K     |██████████████▋                 | 122 kB 8.0 MB/s eta 0:00:01\r\u001b[K     |███████████████▉                | 133 kB 8.0 MB/s eta 0:00:01\r\u001b[K     |█████████████████               | 143 kB 8.0 MB/s eta 0:00:01\r\u001b[K     |██████████████████▎             | 153 kB 8.0 MB/s eta 0:00:01\r\u001b[K     |███████████████████▌            | 163 kB 8.0 MB/s eta 0:00:01\r\u001b[K     |████████████████████▊           | 174 kB 8.0 MB/s eta 0:00:01\r\u001b[K     |██████████████████████          | 184 kB 8.0 MB/s eta 0:00:01\r\u001b[K     |███████████████████████▏        | 194 kB 8.0 MB/s eta 0:00:01\r\u001b[K     |████████████████████████▎       | 204 kB 8.0 MB/s eta 0:00:01\r\u001b[K     |█████████████████████████▌      | 215 kB 8.0 MB/s eta 0:00:01\r\u001b[K     |██████████████████████████▊     | 225 kB 8.0 MB/s eta 0:00:01\r\u001b[K     |████████████████████████████    | 235 kB 8.0 MB/s eta 0:00:01\r\u001b[K     |█████████████████████████████▏  | 245 kB 8.0 MB/s eta 0:00:01\r\u001b[K     |██████████████████████████████▍ | 256 kB 8.0 MB/s eta 0:00:01\r\u001b[K     |███████████████████████████████▋| 266 kB 8.0 MB/s eta 0:00:01\r\u001b[K     |████████████████████████████████| 269 kB 8.0 MB/s \n",
            "\u001b[?25hBuilding wheels for collected packages: PyYAML\n",
            "  Building wheel for PyYAML (setup.py) ... \u001b[?25l\u001b[?25hdone\n",
            "  Created wheel for PyYAML: filename=PyYAML-5.3.1-cp37-cp37m-linux_x86_64.whl size=44636 sha256=e40024707e8952a858b28bfe836ea8bdfa4b12f5d9af7ec9758c7fd40ca6c136\n",
            "  Stored in directory: /root/.cache/pip/wheels/5e/03/1e/e1e954795d6f35dfc7b637fe2277bff021303bd9570ecea653\n",
            "Successfully built PyYAML\n",
            "Installing collected packages: PyYAML\n",
            "  Attempting uninstall: PyYAML\n",
            "    Found existing installation: PyYAML 3.13\n",
            "    Uninstalling PyYAML-3.13:\n",
            "      Successfully uninstalled PyYAML-3.13\n",
            "Successfully installed PyYAML-5.3.1\n",
            "Collecting git+https://github.com/cocodataset/cocoapi.git\n",
            "  Cloning https://github.com/cocodataset/cocoapi.git to /tmp/pip-req-build-gposesdx\n",
            "  Running command git clone -q https://github.com/cocodataset/cocoapi.git /tmp/pip-req-build-gposesdx\n",
            "\u001b[31mERROR: File \"setup.py\" not found for legacy project git+https://github.com/cocodataset/cocoapi.git.\u001b[0m\n"
          ]
        }
      ]
    },
    {
      "cell_type": "code",
      "metadata": {
        "colab": {
          "base_uri": "https://localhost:8080/"
        },
        "id": "scFGRzxv-r8l",
        "outputId": "a0e662f4-a867-4fc4-b65e-48b835bbcd94"
      },
      "source": [
        "!git clone https://github.com/NVIDIA/apex && cd apex && pip install -v --no-cache-dir --global-option=\"--cpp_ext\" --global-option=\"--cuda_ext\" . --user && cd .. && rm -rf apex"
      ],
      "execution_count": null,
      "outputs": [
        {
          "output_type": "stream",
          "name": "stdout",
          "text": [
            "Cloning into 'apex'...\n",
            "remote: Enumerating objects: 8989, done.\u001b[K\n",
            "remote: Counting objects: 100% (60/60), done.\u001b[K\n",
            "remote: Compressing objects: 100% (51/51), done.\u001b[K\n",
            "remote: Total 8989 (delta 24), reused 21 (delta 9), pack-reused 8929\u001b[K\n",
            "Receiving objects: 100% (8989/8989), 14.53 MiB | 17.97 MiB/s, done.\n",
            "Resolving deltas: 100% (6137/6137), done.\n",
            "/usr/local/lib/python3.7/dist-packages/pip/_internal/commands/install.py:232: UserWarning: Disabling all use of wheels due to the use of --build-option / --global-option / --install-option.\n",
            "  cmdoptions.check_install_build_global(options)\n",
            "Using pip 21.1.3 from /usr/local/lib/python3.7/dist-packages/pip (python 3.7)\n",
            "User install by explicit request\n",
            "Created temporary directory: /tmp/pip-ephem-wheel-cache-yykuzzvk\n",
            "Created temporary directory: /tmp/pip-req-tracker-wndz8grr\n",
            "Initialized build tracking at /tmp/pip-req-tracker-wndz8grr\n",
            "Created build tracker: /tmp/pip-req-tracker-wndz8grr\n",
            "Entered build tracker: /tmp/pip-req-tracker-wndz8grr\n",
            "Created temporary directory: /tmp/pip-install-i35dd0li\n",
            "Processing /content/apex\n",
            "  Created temporary directory: /tmp/pip-req-build-oocgmi6s\n",
            "\u001b[33m  DEPRECATION: A future pip version will change local packages to be built in-place without first copying to a temporary directory. We recommend you use --use-feature=in-tree-build to test your packages with this new behavior before it becomes the default.\n",
            "   pip 21.3 will remove support for this functionality. You can find discussion regarding this at https://github.com/pypa/pip/issues/7555.\u001b[0m\n",
            "  Added file:///content/apex to build tracker '/tmp/pip-req-tracker-wndz8grr'\n",
            "    Running setup.py (path:/tmp/pip-req-build-oocgmi6s/setup.py) egg_info for package from file:///content/apex\n",
            "    Created temporary directory: /tmp/pip-pip-egg-info-933vyumv\n",
            "    Running command python setup.py egg_info\n",
            "    No CUDA runtime is found, using CUDA_HOME='/usr/local/cuda'\n",
            "\n",
            "    Warning: Torch did not find available GPUs on this system.\n",
            "     If your intention is to cross-compile, this is not an error.\n",
            "    By default, Apex will cross-compile for Pascal (compute capabilities 6.0, 6.1, 6.2),\n",
            "    Volta (compute capability 7.0), Turing (compute capability 7.5),\n",
            "    and, if the CUDA version is >= 11.0, Ampere (compute capability 8.0).\n",
            "    If you wish to cross-compile for a single specific architecture,\n",
            "    export TORCH_CUDA_ARCH_LIST=\"compute capability\" before running setup.py.\n",
            "\n",
            "\n",
            "\n",
            "    torch.__version__  = 1.5.1+cu101\n",
            "\n",
            "\n",
            "    running egg_info\n",
            "    creating /tmp/pip-pip-egg-info-933vyumv/apex.egg-info\n",
            "    writing /tmp/pip-pip-egg-info-933vyumv/apex.egg-info/PKG-INFO\n",
            "    writing dependency_links to /tmp/pip-pip-egg-info-933vyumv/apex.egg-info/dependency_links.txt\n",
            "    writing top-level names to /tmp/pip-pip-egg-info-933vyumv/apex.egg-info/top_level.txt\n",
            "    writing manifest file '/tmp/pip-pip-egg-info-933vyumv/apex.egg-info/SOURCES.txt'\n",
            "    adding license file 'LICENSE'\n",
            "    writing manifest file '/tmp/pip-pip-egg-info-933vyumv/apex.egg-info/SOURCES.txt'\n",
            "    /tmp/pip-req-build-oocgmi6s/setup.py:109: UserWarning: Option --pyprof not specified. Not installing PyProf dependencies!\n",
            "      warnings.warn(\"Option --pyprof not specified. Not installing PyProf dependencies!\")\n",
            "  Source in /tmp/pip-req-build-oocgmi6s has version 0.1, which satisfies requirement apex==0.1 from file:///content/apex\n",
            "  Removed apex==0.1 from file:///content/apex from build tracker '/tmp/pip-req-tracker-wndz8grr'\n",
            "Created temporary directory: /tmp/pip-unpack-xw8o3lt8\n",
            "Skipping wheel build for apex, due to binaries being disabled for it.\n",
            "Installing collected packages: apex\n",
            "  Value for scheme.headers does not match. Please report this to <https://github.com/pypa/pip/issues/9617>\n",
            "  distutils: /root/.local/include/python3.7m/apex\n",
            "  sysconfig: /root/.local/include/python3.7/apex\n",
            "  Additional context:\n",
            "  user = True\n",
            "  home = None\n",
            "  root = None\n",
            "  prefix = None\n",
            "  Created temporary directory: /tmp/pip-record-pfkkv8fe\n",
            "    Running command /usr/bin/python3 -u -c 'import io, os, sys, setuptools, tokenize; sys.argv[0] = '\"'\"'/tmp/pip-req-build-oocgmi6s/setup.py'\"'\"'; __file__='\"'\"'/tmp/pip-req-build-oocgmi6s/setup.py'\"'\"';f = getattr(tokenize, '\"'\"'open'\"'\"', open)(__file__) if os.path.exists(__file__) else io.StringIO('\"'\"'from setuptools import setup; setup()'\"'\"');code = f.read().replace('\"'\"'\\r\\n'\"'\"', '\"'\"'\\n'\"'\"');f.close();exec(compile(code, __file__, '\"'\"'exec'\"'\"'))' --cpp_ext --cuda_ext install --record /tmp/pip-record-pfkkv8fe/install-record.txt --single-version-externally-managed --user --prefix= --compile --install-headers /root/.local/include/python3.7m/apex\n",
            "    No CUDA runtime is found, using CUDA_HOME='/usr/local/cuda'\n",
            "\n",
            "    Warning: Torch did not find available GPUs on this system.\n",
            "     If your intention is to cross-compile, this is not an error.\n",
            "    By default, Apex will cross-compile for Pascal (compute capabilities 6.0, 6.1, 6.2),\n",
            "    Volta (compute capability 7.0), Turing (compute capability 7.5),\n",
            "    and, if the CUDA version is >= 11.0, Ampere (compute capability 8.0).\n",
            "    If you wish to cross-compile for a single specific architecture,\n",
            "    export TORCH_CUDA_ARCH_LIST=\"compute capability\" before running setup.py.\n",
            "\n",
            "\n",
            "\n",
            "    torch.__version__  = 1.5.1+cu101\n",
            "\n",
            "\n",
            "    /tmp/pip-req-build-oocgmi6s/setup.py:109: UserWarning: Option --pyprof not specified. Not installing PyProf dependencies!\n",
            "      warnings.warn(\"Option --pyprof not specified. Not installing PyProf dependencies!\")\n",
            "\n",
            "    Compiling cuda extensions with\n",
            "    nvcc: NVIDIA (R) Cuda compiler driver\n",
            "    Copyright (c) 2005-2020 NVIDIA Corporation\n",
            "    Built on Mon_Oct_12_20:09:46_PDT_2020\n",
            "    Cuda compilation tools, release 11.1, V11.1.105\n",
            "    Build cuda_11.1.TC455_06.29190527_0\n",
            "    from /usr/local/cuda/bin\n",
            "\n",
            "    Traceback (most recent call last):\n",
            "      File \"<string>\", line 1, in <module>\n",
            "      File \"/tmp/pip-req-build-oocgmi6s/setup.py\", line 177, in <module>\n",
            "        check_cuda_torch_binary_vs_bare_metal(CUDA_HOME)\n",
            "      File \"/tmp/pip-req-build-oocgmi6s/setup.py\", line 38, in check_cuda_torch_binary_vs_bare_metal\n",
            "        + \"In some cases, a minor-version mismatch will not cause later errors:  \"\n",
            "    RuntimeError: Cuda extensions are being compiled with a version of Cuda that does not match the version used to compile Pytorch binaries.  Pytorch binaries were compiled with Cuda 10.1.\n",
            "    In some cases, a minor-version mismatch will not cause later errors:  https://github.com/NVIDIA/apex/pull/323#discussion_r287021798.  You can try commenting out this check (at your own risk).\n",
            "    Running setup.py install for apex ... \u001b[?25l\u001b[?25herror\n",
            "\u001b[31mERROR: Command errored out with exit status 1: /usr/bin/python3 -u -c 'import io, os, sys, setuptools, tokenize; sys.argv[0] = '\"'\"'/tmp/pip-req-build-oocgmi6s/setup.py'\"'\"'; __file__='\"'\"'/tmp/pip-req-build-oocgmi6s/setup.py'\"'\"';f = getattr(tokenize, '\"'\"'open'\"'\"', open)(__file__) if os.path.exists(__file__) else io.StringIO('\"'\"'from setuptools import setup; setup()'\"'\"');code = f.read().replace('\"'\"'\\r\\n'\"'\"', '\"'\"'\\n'\"'\"');f.close();exec(compile(code, __file__, '\"'\"'exec'\"'\"'))' --cpp_ext --cuda_ext install --record /tmp/pip-record-pfkkv8fe/install-record.txt --single-version-externally-managed --user --prefix= --compile --install-headers /root/.local/include/python3.7m/apex Check the logs for full command output.\u001b[0m\n",
            "Exception information:\n",
            "Traceback (most recent call last):\n",
            "  File \"/usr/local/lib/python3.7/dist-packages/pip/_internal/req/req_install.py\", line 825, in install\n",
            "    req_description=str(self.req),\n",
            "  File \"/usr/local/lib/python3.7/dist-packages/pip/_internal/operations/install/legacy.py\", line 81, in install\n",
            "    raise LegacyInstallFailure\n",
            "pip._internal.operations.install.legacy.LegacyInstallFailure\n",
            "\n",
            "During handling of the above exception, another exception occurred:\n",
            "\n",
            "Traceback (most recent call last):\n",
            "  File \"/usr/local/lib/python3.7/dist-packages/pip/_internal/cli/base_command.py\", line 180, in _main\n",
            "    status = self.run(options, args)\n",
            "  File \"/usr/local/lib/python3.7/dist-packages/pip/_internal/cli/req_command.py\", line 199, in wrapper\n",
            "    return func(self, options, args)\n",
            "  File \"/usr/local/lib/python3.7/dist-packages/pip/_internal/commands/install.py\", line 402, in run\n",
            "    pycompile=options.compile,\n",
            "  File \"/usr/local/lib/python3.7/dist-packages/pip/_internal/req/__init__.py\", line 85, in install_given_reqs\n",
            "    pycompile=pycompile,\n",
            "  File \"/usr/local/lib/python3.7/dist-packages/pip/_internal/req/req_install.py\", line 829, in install\n",
            "    six.reraise(*exc.parent)\n",
            "  File \"/usr/local/lib/python3.7/dist-packages/pip/_vendor/six.py\", line 703, in reraise\n",
            "    raise value\n",
            "  File \"/usr/local/lib/python3.7/dist-packages/pip/_internal/operations/install/legacy.py\", line 71, in install\n",
            "    cwd=unpacked_source_directory,\n",
            "  File \"/usr/local/lib/python3.7/dist-packages/pip/_internal/utils/subprocess.py\", line 278, in runner\n",
            "    spinner=spinner,\n",
            "  File \"/usr/local/lib/python3.7/dist-packages/pip/_internal/utils/subprocess.py\", line 244, in call_subprocess\n",
            "    raise InstallationSubprocessError(proc.returncode, command_desc)\n",
            "pip._internal.exceptions.InstallationSubprocessError: Command errored out with exit status 1: /usr/bin/python3 -u -c 'import io, os, sys, setuptools, tokenize; sys.argv[0] = '\"'\"'/tmp/pip-req-build-oocgmi6s/setup.py'\"'\"'; __file__='\"'\"'/tmp/pip-req-build-oocgmi6s/setup.py'\"'\"';f = getattr(tokenize, '\"'\"'open'\"'\"', open)(__file__) if os.path.exists(__file__) else io.StringIO('\"'\"'from setuptools import setup; setup()'\"'\"');code = f.read().replace('\"'\"'\\r\\n'\"'\"', '\"'\"'\\n'\"'\"');f.close();exec(compile(code, __file__, '\"'\"'exec'\"'\"'))' --cpp_ext --cuda_ext install --record /tmp/pip-record-pfkkv8fe/install-record.txt --single-version-externally-managed --user --prefix= --compile --install-headers /root/.local/include/python3.7m/apex Check the logs for full command output.\n",
            "Removed build tracker: '/tmp/pip-req-tracker-wndz8grr'\n"
          ]
        }
      ]
    },
    {
      "cell_type": "code",
      "metadata": {
        "id": "Wj3aQ_HTasaX"
      },
      "source": [
        "from google.colab import drive\n",
        "drive.mount('/content/drive')"
      ],
      "execution_count": null,
      "outputs": []
    },
    {
      "cell_type": "code",
      "metadata": {
        "id": "LtHtP7eWAG_S"
      },
      "source": [
        "!unzip drive/MyDrive/new_dataset"
      ],
      "execution_count": null,
      "outputs": []
    },
    {
      "cell_type": "code",
      "metadata": {
        "id": "U2T23xacAr7P"
      },
      "source": [
        "import numpy as np\n",
        "import cv2\n",
        "import torch\n",
        "import torchvision\n",
        "import PIL.Image as Image\n",
        "from pathlib import Path\n",
        "import json"
      ],
      "execution_count": null,
      "outputs": []
    },
    {
      "cell_type": "code",
      "metadata": {
        "id": "78lhE0eoAV43"
      },
      "source": [
        "def create_dataset(start_index, end_index, dataset_type):\n",
        "  for i in range(start_index, end_index+1):\n",
        "    img = cv2.imread(f\"new_dataset/{i}.png\")\n",
        "    try:    # to handle if image at i doesnt exist in the dataset\n",
        "      cv2.imwrite(f\"images/{dataset_type}/staircase{i}.png\", img)\n",
        "      json_obj = open(f\"new_dataset/{i}.json\")\n",
        "      data_dict = json.load(json_obj)\n",
        "      h, w = img.shape[0], img.shape[1]\n",
        "      with (Path(f\"labels/{dataset_type}/staircase{i}.txt\")).open(mode=\"w\") as label_file:\n",
        "        x_list = []\n",
        "        y_list = []\n",
        "        for point in data_dict['shapes'][0]['points']:\n",
        "          x_list.append(point[0])\n",
        "          y_list.append(point[1])\n",
        "        x_min = min(x_list)/w\n",
        "        x_max = max(x_list)/w\n",
        "        y_min = min(y_list)/h\n",
        "        y_max = max(y_list)/h\n",
        "        bbox_width = x_max - x_min  \n",
        "        bbox_height = y_max - y_min\n",
        "        category_idx = 0\n",
        "        label_file.write(f\"{category_idx} {x_min + bbox_width / 2} {y_min + bbox_height / 2} {bbox_width} {bbox_height}\\n\")\n",
        "    except: \n",
        "      pass\n",
        "create_dataset(1329, 1670, \"train\")\n",
        "create_dataset(1671, 1795, \"val\")"
      ],
      "execution_count": null,
      "outputs": []
    },
    {
      "cell_type": "code",
      "metadata": {
        "colab": {
          "base_uri": "https://localhost:8080/"
        },
        "id": "qWj_Sf7JAY2f",
        "outputId": "1167a3f0-5e37-459e-b699-8fca3b59d743"
      },
      "source": [
        "!git clone https://github.com/ultralytics/yolov5"
      ],
      "execution_count": null,
      "outputs": [
        {
          "output_type": "stream",
          "name": "stdout",
          "text": [
            "Cloning into 'yolov5'...\n",
            "remote: Enumerating objects: 9876, done.\u001b[K\n",
            "remote: Total 9876 (delta 0), reused 0 (delta 0), pack-reused 9876\u001b[K\n",
            "Receiving objects: 100% (9876/9876), 10.06 MiB | 24.77 MiB/s, done.\n",
            "Resolving deltas: 100% (6870/6870), done.\n"
          ]
        }
      ]
    },
    {
      "cell_type": "code",
      "metadata": {
        "id": "FZiuddOFBFcz"
      },
      "source": [
        "%cd yolov5\n",
        "!python train.py --img 640 --batch 4 --epochs 50 \\\n",
        "  --data ./data/stairs.yaml --cfg ./models/yolov5s.yaml --weights ../best2.pt \\\n",
        "  --name yolov5s_stairs --cache\n",
        "%cd .."
      ],
      "execution_count": null,
      "outputs": []
    },
    {
      "cell_type": "code",
      "metadata": {
        "colab": {
          "base_uri": "https://localhost:8080/"
        },
        "id": "h4uze6U1BXwL",
        "outputId": "d658fcbd-275f-47f3-b5c3-bc2de97c6da9"
      },
      "source": [
        "%cd yolov5\n",
        "!python detect.py --weights runs/train/yolov5s_stairs/weights/best.pt \\\n",
        "  --img 640 --conf 0.4 --source ../images/stair.jpeg\n",
        "%cd .."
      ],
      "execution_count": null,
      "outputs": [
        {
          "output_type": "stream",
          "name": "stdout",
          "text": [
            "/content/yolov5\n",
            "\u001b[34m\u001b[1mdetect: \u001b[0mweights=['runs/train/yolov5s_stairs/weights/best.pt'], source=../images/stair.jpeg, imgsz=[640, 640], conf_thres=0.4, iou_thres=0.45, max_det=1000, device=, view_img=False, save_txt=False, save_conf=False, save_crop=False, nosave=False, classes=None, agnostic_nms=False, augment=False, visualize=False, update=False, project=runs/detect, name=exp, exist_ok=False, line_thickness=3, hide_labels=False, hide_conf=False, half=False, dnn=False\n",
            "YOLOv5 🚀 v6.0-25-g15e8c4c torch 1.10.0+cu102 CUDA:0 (Tesla K80, 11441.1875MB)\n",
            "\n",
            "Fusing layers... \n",
            "Model Summary: 213 layers, 7012822 parameters, 0 gradients\n",
            "/usr/local/lib/python3.7/dist-packages/torch/functional.py:445: UserWarning: torch.meshgrid: in an upcoming release, it will be required to pass the indexing argument. (Triggered internally at  ../aten/src/ATen/native/TensorShape.cpp:2157.)\n",
            "  return _VF.meshgrid(tensors, **kwargs)  # type: ignore[attr-defined]\n",
            "image 1/1 /content/images/stair.jpeg: 384x640 1 stairs, Done. (0.024s)\n",
            "Speed: 0.4ms pre-process, 24.1ms inference, 2.0ms NMS per image at shape (1, 3, 640, 640)\n",
            "Results saved to \u001b[1mruns/detect/exp10\u001b[0m\n",
            "/content\n"
          ]
        }
      ]
    },
    {
      "cell_type": "code",
      "metadata": {
        "id": "GYZhpHrKLqTN",
        "colab": {
          "base_uri": "https://localhost:8080/",
          "height": 95
        },
        "outputId": "fc6e45a4-20c6-4e9e-a1f2-32e2a29a936c"
      },
      "source": [
        "import matplotlib.pyplot as plt\n",
        "for i in range(5):\n",
        "  plt.subplot(1,5,i+1)\n",
        "  img = plt.imread(f\"./yolov5/runs/detect/exp6/staircase{1671+i}.png\")\n",
        "  plt.imshow(img)\n",
        "plt.savefig(\"examples.png\")"
      ],
      "execution_count": null,
      "outputs": [
        {
          "output_type": "display_data",
          "data": {
            "image/png": "[encoded data removed]",
            "text/plain": [
              "<Figure size 432x288 with 5 Axes>"
            ]
          },
          "metadata": {
            "needs_background": "light"
          }
        }
      ]
    },
    {
      "cell_type": "code",
      "metadata": {
        "id": "keInvTruedAp"
      },
      "source": [
        ""
      ],
      "execution_count": null,
      "outputs": []
    },
    {
      "cell_type": "code",
      "metadata": {
        "id": "7Q3xQ-mkgfON"
      },
      "source": [
        ""
      ],
      "execution_count": null,
      "outputs": []
    }
  ]
}